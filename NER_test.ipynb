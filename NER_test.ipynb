{
  "nbformat": 4,
  "nbformat_minor": 0,
  "metadata": {
    "accelerator": "GPU",
    "colab": {
      "name": "NER_test.ipynb",
      "provenance": [],
      "collapsed_sections": []
    },
    "kernelspec": {
      "display_name": "Python 3",
      "language": "python",
      "name": "python3"
    },
    "language_info": {
      "codemirror_mode": {
        "name": "ipython",
        "version": 3
      },
      "file_extension": ".py",
      "mimetype": "text/x-python",
      "name": "python",
      "nbconvert_exporter": "python",
      "pygments_lexer": "ipython3",
      "version": "3.8.3"
    },
    "toc": {
      "base_numbering": 1,
      "nav_menu": {},
      "number_sections": true,
      "sideBar": true,
      "skip_h1_title": false,
      "title_cell": "Table of Contents",
      "title_sidebar": "Contents",
      "toc_cell": false,
      "toc_position": {},
      "toc_section_display": true,
      "toc_window_display": false
    },
    "varInspector": {
      "cols": {
        "lenName": 16,
        "lenType": 16,
        "lenVar": 40
      },
      "kernels_config": {
        "python": {
          "delete_cmd_postfix": "",
          "delete_cmd_prefix": "del ",
          "library": "var_list.py",
          "varRefreshCmd": "print(var_dic_list())"
        },
        "r": {
          "delete_cmd_postfix": ") ",
          "delete_cmd_prefix": "rm(",
          "library": "var_list.r",
          "varRefreshCmd": "cat(var_dic_list()) "
        }
      },
      "types_to_exclude": [
        "module",
        "function",
        "builtin_function_or_method",
        "instance",
        "_Feature"
      ],
      "window_display": false
    },
    "widgets": {
      "application/vnd.jupyter.widget-state+json": {
        "4032ce0e331442008c91f34ecbdcdacc": {
          "model_module": "@jupyter-widgets/controls",
          "model_name": "HBoxModel",
          "state": {
            "_view_name": "HBoxView",
            "_dom_classes": [],
            "_model_name": "HBoxModel",
            "_view_module": "@jupyter-widgets/controls",
            "_model_module_version": "1.5.0",
            "_view_count": null,
            "_view_module_version": "1.5.0",
            "box_style": "",
            "layout": "IPY_MODEL_8e549973c59a44d2a558c0a2c3ce693f",
            "_model_module": "@jupyter-widgets/controls",
            "children": [
              "IPY_MODEL_5425193e173b49b593e2402f956842ee",
              "IPY_MODEL_566a88e28b5c449eb5acb5a683fd8550"
            ]
          }
        },
        "8e549973c59a44d2a558c0a2c3ce693f": {
          "model_module": "@jupyter-widgets/base",
          "model_name": "LayoutModel",
          "state": {
            "_view_name": "LayoutView",
            "grid_template_rows": null,
            "right": null,
            "justify_content": null,
            "_view_module": "@jupyter-widgets/base",
            "overflow": null,
            "_model_module_version": "1.2.0",
            "_view_count": null,
            "flex_flow": null,
            "width": null,
            "min_width": null,
            "border": null,
            "align_items": null,
            "bottom": null,
            "_model_module": "@jupyter-widgets/base",
            "top": null,
            "grid_column": null,
            "overflow_y": null,
            "overflow_x": null,
            "grid_auto_flow": null,
            "grid_area": null,
            "grid_template_columns": null,
            "flex": null,
            "_model_name": "LayoutModel",
            "justify_items": null,
            "grid_row": null,
            "max_height": null,
            "align_content": null,
            "visibility": null,
            "align_self": null,
            "height": null,
            "min_height": null,
            "padding": null,
            "grid_auto_rows": null,
            "grid_gap": null,
            "max_width": null,
            "order": null,
            "_view_module_version": "1.2.0",
            "grid_template_areas": null,
            "object_position": null,
            "object_fit": null,
            "grid_auto_columns": null,
            "margin": null,
            "display": null,
            "left": null
          }
        },
        "5425193e173b49b593e2402f956842ee": {
          "model_module": "@jupyter-widgets/controls",
          "model_name": "FloatProgressModel",
          "state": {
            "_view_name": "ProgressView",
            "style": "IPY_MODEL_5f49f6373ba8401eb23c9770710f04a9",
            "_dom_classes": [],
            "description": "Downloading: 100%",
            "_model_name": "FloatProgressModel",
            "bar_style": "success",
            "max": 570,
            "_view_module": "@jupyter-widgets/controls",
            "_model_module_version": "1.5.0",
            "value": 570,
            "_view_count": null,
            "_view_module_version": "1.5.0",
            "orientation": "horizontal",
            "min": 0,
            "description_tooltip": null,
            "_model_module": "@jupyter-widgets/controls",
            "layout": "IPY_MODEL_038c151ba0374b70b713fc46a1e4581e"
          }
        },
        "566a88e28b5c449eb5acb5a683fd8550": {
          "model_module": "@jupyter-widgets/controls",
          "model_name": "HTMLModel",
          "state": {
            "_view_name": "HTMLView",
            "style": "IPY_MODEL_3587cb1b700d4213a0374e07187181f7",
            "_dom_classes": [],
            "description": "",
            "_model_name": "HTMLModel",
            "placeholder": "​",
            "_view_module": "@jupyter-widgets/controls",
            "_model_module_version": "1.5.0",
            "value": " 570/570 [00:00&lt;00:00, 860B/s]",
            "_view_count": null,
            "_view_module_version": "1.5.0",
            "description_tooltip": null,
            "_model_module": "@jupyter-widgets/controls",
            "layout": "IPY_MODEL_4fc01e0f291c45eb804c4695b81a1729"
          }
        },
        "5f49f6373ba8401eb23c9770710f04a9": {
          "model_module": "@jupyter-widgets/controls",
          "model_name": "ProgressStyleModel",
          "state": {
            "_view_name": "StyleView",
            "_model_name": "ProgressStyleModel",
            "description_width": "initial",
            "_view_module": "@jupyter-widgets/base",
            "_model_module_version": "1.5.0",
            "_view_count": null,
            "_view_module_version": "1.2.0",
            "bar_color": null,
            "_model_module": "@jupyter-widgets/controls"
          }
        },
        "038c151ba0374b70b713fc46a1e4581e": {
          "model_module": "@jupyter-widgets/base",
          "model_name": "LayoutModel",
          "state": {
            "_view_name": "LayoutView",
            "grid_template_rows": null,
            "right": null,
            "justify_content": null,
            "_view_module": "@jupyter-widgets/base",
            "overflow": null,
            "_model_module_version": "1.2.0",
            "_view_count": null,
            "flex_flow": null,
            "width": null,
            "min_width": null,
            "border": null,
            "align_items": null,
            "bottom": null,
            "_model_module": "@jupyter-widgets/base",
            "top": null,
            "grid_column": null,
            "overflow_y": null,
            "overflow_x": null,
            "grid_auto_flow": null,
            "grid_area": null,
            "grid_template_columns": null,
            "flex": null,
            "_model_name": "LayoutModel",
            "justify_items": null,
            "grid_row": null,
            "max_height": null,
            "align_content": null,
            "visibility": null,
            "align_self": null,
            "height": null,
            "min_height": null,
            "padding": null,
            "grid_auto_rows": null,
            "grid_gap": null,
            "max_width": null,
            "order": null,
            "_view_module_version": "1.2.0",
            "grid_template_areas": null,
            "object_position": null,
            "object_fit": null,
            "grid_auto_columns": null,
            "margin": null,
            "display": null,
            "left": null
          }
        },
        "3587cb1b700d4213a0374e07187181f7": {
          "model_module": "@jupyter-widgets/controls",
          "model_name": "DescriptionStyleModel",
          "state": {
            "_view_name": "StyleView",
            "_model_name": "DescriptionStyleModel",
            "description_width": "",
            "_view_module": "@jupyter-widgets/base",
            "_model_module_version": "1.5.0",
            "_view_count": null,
            "_view_module_version": "1.2.0",
            "_model_module": "@jupyter-widgets/controls"
          }
        },
        "4fc01e0f291c45eb804c4695b81a1729": {
          "model_module": "@jupyter-widgets/base",
          "model_name": "LayoutModel",
          "state": {
            "_view_name": "LayoutView",
            "grid_template_rows": null,
            "right": null,
            "justify_content": null,
            "_view_module": "@jupyter-widgets/base",
            "overflow": null,
            "_model_module_version": "1.2.0",
            "_view_count": null,
            "flex_flow": null,
            "width": null,
            "min_width": null,
            "border": null,
            "align_items": null,
            "bottom": null,
            "_model_module": "@jupyter-widgets/base",
            "top": null,
            "grid_column": null,
            "overflow_y": null,
            "overflow_x": null,
            "grid_auto_flow": null,
            "grid_area": null,
            "grid_template_columns": null,
            "flex": null,
            "_model_name": "LayoutModel",
            "justify_items": null,
            "grid_row": null,
            "max_height": null,
            "align_content": null,
            "visibility": null,
            "align_self": null,
            "height": null,
            "min_height": null,
            "padding": null,
            "grid_auto_rows": null,
            "grid_gap": null,
            "max_width": null,
            "order": null,
            "_view_module_version": "1.2.0",
            "grid_template_areas": null,
            "object_position": null,
            "object_fit": null,
            "grid_auto_columns": null,
            "margin": null,
            "display": null,
            "left": null
          }
        },
        "821e47dd94ed43229b9e57ad63758aa8": {
          "model_module": "@jupyter-widgets/controls",
          "model_name": "HBoxModel",
          "state": {
            "_view_name": "HBoxView",
            "_dom_classes": [],
            "_model_name": "HBoxModel",
            "_view_module": "@jupyter-widgets/controls",
            "_model_module_version": "1.5.0",
            "_view_count": null,
            "_view_module_version": "1.5.0",
            "box_style": "",
            "layout": "IPY_MODEL_532026ce61904c82b64c941a84f8b976",
            "_model_module": "@jupyter-widgets/controls",
            "children": [
              "IPY_MODEL_7e875266bbdb4773a80e29e4563697d0",
              "IPY_MODEL_b7dedaacb9d34406953ac5af7ecf11b7"
            ]
          }
        },
        "532026ce61904c82b64c941a84f8b976": {
          "model_module": "@jupyter-widgets/base",
          "model_name": "LayoutModel",
          "state": {
            "_view_name": "LayoutView",
            "grid_template_rows": null,
            "right": null,
            "justify_content": null,
            "_view_module": "@jupyter-widgets/base",
            "overflow": null,
            "_model_module_version": "1.2.0",
            "_view_count": null,
            "flex_flow": null,
            "width": null,
            "min_width": null,
            "border": null,
            "align_items": null,
            "bottom": null,
            "_model_module": "@jupyter-widgets/base",
            "top": null,
            "grid_column": null,
            "overflow_y": null,
            "overflow_x": null,
            "grid_auto_flow": null,
            "grid_area": null,
            "grid_template_columns": null,
            "flex": null,
            "_model_name": "LayoutModel",
            "justify_items": null,
            "grid_row": null,
            "max_height": null,
            "align_content": null,
            "visibility": null,
            "align_self": null,
            "height": null,
            "min_height": null,
            "padding": null,
            "grid_auto_rows": null,
            "grid_gap": null,
            "max_width": null,
            "order": null,
            "_view_module_version": "1.2.0",
            "grid_template_areas": null,
            "object_position": null,
            "object_fit": null,
            "grid_auto_columns": null,
            "margin": null,
            "display": null,
            "left": null
          }
        },
        "7e875266bbdb4773a80e29e4563697d0": {
          "model_module": "@jupyter-widgets/controls",
          "model_name": "FloatProgressModel",
          "state": {
            "_view_name": "ProgressView",
            "style": "IPY_MODEL_8ee72e909ca8472587094bd25c37cf9b",
            "_dom_classes": [],
            "description": "Downloading: 100%",
            "_model_name": "FloatProgressModel",
            "bar_style": "success",
            "max": 213450,
            "_view_module": "@jupyter-widgets/controls",
            "_model_module_version": "1.5.0",
            "value": 213450,
            "_view_count": null,
            "_view_module_version": "1.5.0",
            "orientation": "horizontal",
            "min": 0,
            "description_tooltip": null,
            "_model_module": "@jupyter-widgets/controls",
            "layout": "IPY_MODEL_3cf31838911f4c71a4fd27238349cf24"
          }
        },
        "b7dedaacb9d34406953ac5af7ecf11b7": {
          "model_module": "@jupyter-widgets/controls",
          "model_name": "HTMLModel",
          "state": {
            "_view_name": "HTMLView",
            "style": "IPY_MODEL_2b80fb20c1f940c6af2f49dcfe2ab056",
            "_dom_classes": [],
            "description": "",
            "_model_name": "HTMLModel",
            "placeholder": "​",
            "_view_module": "@jupyter-widgets/controls",
            "_model_module_version": "1.5.0",
            "value": " 213k/213k [00:00&lt;00:00, 1.57MB/s]",
            "_view_count": null,
            "_view_module_version": "1.5.0",
            "description_tooltip": null,
            "_model_module": "@jupyter-widgets/controls",
            "layout": "IPY_MODEL_628c0730e1a846a7b64aea42e0fb7532"
          }
        },
        "8ee72e909ca8472587094bd25c37cf9b": {
          "model_module": "@jupyter-widgets/controls",
          "model_name": "ProgressStyleModel",
          "state": {
            "_view_name": "StyleView",
            "_model_name": "ProgressStyleModel",
            "description_width": "initial",
            "_view_module": "@jupyter-widgets/base",
            "_model_module_version": "1.5.0",
            "_view_count": null,
            "_view_module_version": "1.2.0",
            "bar_color": null,
            "_model_module": "@jupyter-widgets/controls"
          }
        },
        "3cf31838911f4c71a4fd27238349cf24": {
          "model_module": "@jupyter-widgets/base",
          "model_name": "LayoutModel",
          "state": {
            "_view_name": "LayoutView",
            "grid_template_rows": null,
            "right": null,
            "justify_content": null,
            "_view_module": "@jupyter-widgets/base",
            "overflow": null,
            "_model_module_version": "1.2.0",
            "_view_count": null,
            "flex_flow": null,
            "width": null,
            "min_width": null,
            "border": null,
            "align_items": null,
            "bottom": null,
            "_model_module": "@jupyter-widgets/base",
            "top": null,
            "grid_column": null,
            "overflow_y": null,
            "overflow_x": null,
            "grid_auto_flow": null,
            "grid_area": null,
            "grid_template_columns": null,
            "flex": null,
            "_model_name": "LayoutModel",
            "justify_items": null,
            "grid_row": null,
            "max_height": null,
            "align_content": null,
            "visibility": null,
            "align_self": null,
            "height": null,
            "min_height": null,
            "padding": null,
            "grid_auto_rows": null,
            "grid_gap": null,
            "max_width": null,
            "order": null,
            "_view_module_version": "1.2.0",
            "grid_template_areas": null,
            "object_position": null,
            "object_fit": null,
            "grid_auto_columns": null,
            "margin": null,
            "display": null,
            "left": null
          }
        },
        "2b80fb20c1f940c6af2f49dcfe2ab056": {
          "model_module": "@jupyter-widgets/controls",
          "model_name": "DescriptionStyleModel",
          "state": {
            "_view_name": "StyleView",
            "_model_name": "DescriptionStyleModel",
            "description_width": "",
            "_view_module": "@jupyter-widgets/base",
            "_model_module_version": "1.5.0",
            "_view_count": null,
            "_view_module_version": "1.2.0",
            "_model_module": "@jupyter-widgets/controls"
          }
        },
        "628c0730e1a846a7b64aea42e0fb7532": {
          "model_module": "@jupyter-widgets/base",
          "model_name": "LayoutModel",
          "state": {
            "_view_name": "LayoutView",
            "grid_template_rows": null,
            "right": null,
            "justify_content": null,
            "_view_module": "@jupyter-widgets/base",
            "overflow": null,
            "_model_module_version": "1.2.0",
            "_view_count": null,
            "flex_flow": null,
            "width": null,
            "min_width": null,
            "border": null,
            "align_items": null,
            "bottom": null,
            "_model_module": "@jupyter-widgets/base",
            "top": null,
            "grid_column": null,
            "overflow_y": null,
            "overflow_x": null,
            "grid_auto_flow": null,
            "grid_area": null,
            "grid_template_columns": null,
            "flex": null,
            "_model_name": "LayoutModel",
            "justify_items": null,
            "grid_row": null,
            "max_height": null,
            "align_content": null,
            "visibility": null,
            "align_self": null,
            "height": null,
            "min_height": null,
            "padding": null,
            "grid_auto_rows": null,
            "grid_gap": null,
            "max_width": null,
            "order": null,
            "_view_module_version": "1.2.0",
            "grid_template_areas": null,
            "object_position": null,
            "object_fit": null,
            "grid_auto_columns": null,
            "margin": null,
            "display": null,
            "left": null
          }
        },
        "315484bd69bf4b42893ca1b607933554": {
          "model_module": "@jupyter-widgets/controls",
          "model_name": "HBoxModel",
          "state": {
            "_view_name": "HBoxView",
            "_dom_classes": [],
            "_model_name": "HBoxModel",
            "_view_module": "@jupyter-widgets/controls",
            "_model_module_version": "1.5.0",
            "_view_count": null,
            "_view_module_version": "1.5.0",
            "box_style": "",
            "layout": "IPY_MODEL_c96d6934f8ce47b1a62a513a1e757f7b",
            "_model_module": "@jupyter-widgets/controls",
            "children": [
              "IPY_MODEL_0b7cf0cbb6a04872838a15d5bdcbd27e",
              "IPY_MODEL_8073951bf57840aa9b31862b8c7da82d"
            ]
          }
        },
        "c96d6934f8ce47b1a62a513a1e757f7b": {
          "model_module": "@jupyter-widgets/base",
          "model_name": "LayoutModel",
          "state": {
            "_view_name": "LayoutView",
            "grid_template_rows": null,
            "right": null,
            "justify_content": null,
            "_view_module": "@jupyter-widgets/base",
            "overflow": null,
            "_model_module_version": "1.2.0",
            "_view_count": null,
            "flex_flow": null,
            "width": null,
            "min_width": null,
            "border": null,
            "align_items": null,
            "bottom": null,
            "_model_module": "@jupyter-widgets/base",
            "top": null,
            "grid_column": null,
            "overflow_y": null,
            "overflow_x": null,
            "grid_auto_flow": null,
            "grid_area": null,
            "grid_template_columns": null,
            "flex": null,
            "_model_name": "LayoutModel",
            "justify_items": null,
            "grid_row": null,
            "max_height": null,
            "align_content": null,
            "visibility": null,
            "align_self": null,
            "height": null,
            "min_height": null,
            "padding": null,
            "grid_auto_rows": null,
            "grid_gap": null,
            "max_width": null,
            "order": null,
            "_view_module_version": "1.2.0",
            "grid_template_areas": null,
            "object_position": null,
            "object_fit": null,
            "grid_auto_columns": null,
            "margin": null,
            "display": null,
            "left": null
          }
        },
        "0b7cf0cbb6a04872838a15d5bdcbd27e": {
          "model_module": "@jupyter-widgets/controls",
          "model_name": "FloatProgressModel",
          "state": {
            "_view_name": "ProgressView",
            "style": "IPY_MODEL_2f8709edc2a04e11bc67c1692576662b",
            "_dom_classes": [],
            "description": "Downloading: 100%",
            "_model_name": "FloatProgressModel",
            "bar_style": "success",
            "max": 435797,
            "_view_module": "@jupyter-widgets/controls",
            "_model_module_version": "1.5.0",
            "value": 435797,
            "_view_count": null,
            "_view_module_version": "1.5.0",
            "orientation": "horizontal",
            "min": 0,
            "description_tooltip": null,
            "_model_module": "@jupyter-widgets/controls",
            "layout": "IPY_MODEL_33d8af09a8714577bdbd76baeea8ca0a"
          }
        },
        "8073951bf57840aa9b31862b8c7da82d": {
          "model_module": "@jupyter-widgets/controls",
          "model_name": "HTMLModel",
          "state": {
            "_view_name": "HTMLView",
            "style": "IPY_MODEL_e407f4b06e2b4311abeeac69e88e9f39",
            "_dom_classes": [],
            "description": "",
            "_model_name": "HTMLModel",
            "placeholder": "​",
            "_view_module": "@jupyter-widgets/controls",
            "_model_module_version": "1.5.0",
            "value": " 436k/436k [00:00&lt;00:00, 996kB/s]",
            "_view_count": null,
            "_view_module_version": "1.5.0",
            "description_tooltip": null,
            "_model_module": "@jupyter-widgets/controls",
            "layout": "IPY_MODEL_8a283db156924c3f8f4e10d345c28f32"
          }
        },
        "2f8709edc2a04e11bc67c1692576662b": {
          "model_module": "@jupyter-widgets/controls",
          "model_name": "ProgressStyleModel",
          "state": {
            "_view_name": "StyleView",
            "_model_name": "ProgressStyleModel",
            "description_width": "initial",
            "_view_module": "@jupyter-widgets/base",
            "_model_module_version": "1.5.0",
            "_view_count": null,
            "_view_module_version": "1.2.0",
            "bar_color": null,
            "_model_module": "@jupyter-widgets/controls"
          }
        },
        "33d8af09a8714577bdbd76baeea8ca0a": {
          "model_module": "@jupyter-widgets/base",
          "model_name": "LayoutModel",
          "state": {
            "_view_name": "LayoutView",
            "grid_template_rows": null,
            "right": null,
            "justify_content": null,
            "_view_module": "@jupyter-widgets/base",
            "overflow": null,
            "_model_module_version": "1.2.0",
            "_view_count": null,
            "flex_flow": null,
            "width": null,
            "min_width": null,
            "border": null,
            "align_items": null,
            "bottom": null,
            "_model_module": "@jupyter-widgets/base",
            "top": null,
            "grid_column": null,
            "overflow_y": null,
            "overflow_x": null,
            "grid_auto_flow": null,
            "grid_area": null,
            "grid_template_columns": null,
            "flex": null,
            "_model_name": "LayoutModel",
            "justify_items": null,
            "grid_row": null,
            "max_height": null,
            "align_content": null,
            "visibility": null,
            "align_self": null,
            "height": null,
            "min_height": null,
            "padding": null,
            "grid_auto_rows": null,
            "grid_gap": null,
            "max_width": null,
            "order": null,
            "_view_module_version": "1.2.0",
            "grid_template_areas": null,
            "object_position": null,
            "object_fit": null,
            "grid_auto_columns": null,
            "margin": null,
            "display": null,
            "left": null
          }
        },
        "e407f4b06e2b4311abeeac69e88e9f39": {
          "model_module": "@jupyter-widgets/controls",
          "model_name": "DescriptionStyleModel",
          "state": {
            "_view_name": "StyleView",
            "_model_name": "DescriptionStyleModel",
            "description_width": "",
            "_view_module": "@jupyter-widgets/base",
            "_model_module_version": "1.5.0",
            "_view_count": null,
            "_view_module_version": "1.2.0",
            "_model_module": "@jupyter-widgets/controls"
          }
        },
        "8a283db156924c3f8f4e10d345c28f32": {
          "model_module": "@jupyter-widgets/base",
          "model_name": "LayoutModel",
          "state": {
            "_view_name": "LayoutView",
            "grid_template_rows": null,
            "right": null,
            "justify_content": null,
            "_view_module": "@jupyter-widgets/base",
            "overflow": null,
            "_model_module_version": "1.2.0",
            "_view_count": null,
            "flex_flow": null,
            "width": null,
            "min_width": null,
            "border": null,
            "align_items": null,
            "bottom": null,
            "_model_module": "@jupyter-widgets/base",
            "top": null,
            "grid_column": null,
            "overflow_y": null,
            "overflow_x": null,
            "grid_auto_flow": null,
            "grid_area": null,
            "grid_template_columns": null,
            "flex": null,
            "_model_name": "LayoutModel",
            "justify_items": null,
            "grid_row": null,
            "max_height": null,
            "align_content": null,
            "visibility": null,
            "align_self": null,
            "height": null,
            "min_height": null,
            "padding": null,
            "grid_auto_rows": null,
            "grid_gap": null,
            "max_width": null,
            "order": null,
            "_view_module_version": "1.2.0",
            "grid_template_areas": null,
            "object_position": null,
            "object_fit": null,
            "grid_auto_columns": null,
            "margin": null,
            "display": null,
            "left": null
          }
        },
        "25dbe3358614444688dba2bb736c7475": {
          "model_module": "@jupyter-widgets/controls",
          "model_name": "HBoxModel",
          "state": {
            "_view_name": "HBoxView",
            "_dom_classes": [],
            "_model_name": "HBoxModel",
            "_view_module": "@jupyter-widgets/controls",
            "_model_module_version": "1.5.0",
            "_view_count": null,
            "_view_module_version": "1.5.0",
            "box_style": "",
            "layout": "IPY_MODEL_462beadad0dd4dd9879f25bc9d4c1492",
            "_model_module": "@jupyter-widgets/controls",
            "children": [
              "IPY_MODEL_cb073ccfca2942a083a8645e06b47086",
              "IPY_MODEL_f026d1dec4624d239a4869eb0e08d1dd"
            ]
          }
        },
        "462beadad0dd4dd9879f25bc9d4c1492": {
          "model_module": "@jupyter-widgets/base",
          "model_name": "LayoutModel",
          "state": {
            "_view_name": "LayoutView",
            "grid_template_rows": null,
            "right": null,
            "justify_content": null,
            "_view_module": "@jupyter-widgets/base",
            "overflow": null,
            "_model_module_version": "1.2.0",
            "_view_count": null,
            "flex_flow": null,
            "width": null,
            "min_width": null,
            "border": null,
            "align_items": null,
            "bottom": null,
            "_model_module": "@jupyter-widgets/base",
            "top": null,
            "grid_column": null,
            "overflow_y": null,
            "overflow_x": null,
            "grid_auto_flow": null,
            "grid_area": null,
            "grid_template_columns": null,
            "flex": null,
            "_model_name": "LayoutModel",
            "justify_items": null,
            "grid_row": null,
            "max_height": null,
            "align_content": null,
            "visibility": null,
            "align_self": null,
            "height": null,
            "min_height": null,
            "padding": null,
            "grid_auto_rows": null,
            "grid_gap": null,
            "max_width": null,
            "order": null,
            "_view_module_version": "1.2.0",
            "grid_template_areas": null,
            "object_position": null,
            "object_fit": null,
            "grid_auto_columns": null,
            "margin": null,
            "display": null,
            "left": null
          }
        },
        "cb073ccfca2942a083a8645e06b47086": {
          "model_module": "@jupyter-widgets/controls",
          "model_name": "FloatProgressModel",
          "state": {
            "_view_name": "ProgressView",
            "style": "IPY_MODEL_4137a9ec21ea4905ae3517ab8a824288",
            "_dom_classes": [],
            "description": "Downloading: 100%",
            "_model_name": "FloatProgressModel",
            "bar_style": "success",
            "max": 29,
            "_view_module": "@jupyter-widgets/controls",
            "_model_module_version": "1.5.0",
            "value": 29,
            "_view_count": null,
            "_view_module_version": "1.5.0",
            "orientation": "horizontal",
            "min": 0,
            "description_tooltip": null,
            "_model_module": "@jupyter-widgets/controls",
            "layout": "IPY_MODEL_0f11ec6fbd8e4c6ea0ee4eb97c3f92f1"
          }
        },
        "f026d1dec4624d239a4869eb0e08d1dd": {
          "model_module": "@jupyter-widgets/controls",
          "model_name": "HTMLModel",
          "state": {
            "_view_name": "HTMLView",
            "style": "IPY_MODEL_a30e693898f044bb9f1ac5ad132068b7",
            "_dom_classes": [],
            "description": "",
            "_model_name": "HTMLModel",
            "placeholder": "​",
            "_view_module": "@jupyter-widgets/controls",
            "_model_module_version": "1.5.0",
            "value": " 29.0/29.0 [00:00&lt;00:00, 283B/s]",
            "_view_count": null,
            "_view_module_version": "1.5.0",
            "description_tooltip": null,
            "_model_module": "@jupyter-widgets/controls",
            "layout": "IPY_MODEL_46e64297882640bd98af1b41763a6dac"
          }
        },
        "4137a9ec21ea4905ae3517ab8a824288": {
          "model_module": "@jupyter-widgets/controls",
          "model_name": "ProgressStyleModel",
          "state": {
            "_view_name": "StyleView",
            "_model_name": "ProgressStyleModel",
            "description_width": "initial",
            "_view_module": "@jupyter-widgets/base",
            "_model_module_version": "1.5.0",
            "_view_count": null,
            "_view_module_version": "1.2.0",
            "bar_color": null,
            "_model_module": "@jupyter-widgets/controls"
          }
        },
        "0f11ec6fbd8e4c6ea0ee4eb97c3f92f1": {
          "model_module": "@jupyter-widgets/base",
          "model_name": "LayoutModel",
          "state": {
            "_view_name": "LayoutView",
            "grid_template_rows": null,
            "right": null,
            "justify_content": null,
            "_view_module": "@jupyter-widgets/base",
            "overflow": null,
            "_model_module_version": "1.2.0",
            "_view_count": null,
            "flex_flow": null,
            "width": null,
            "min_width": null,
            "border": null,
            "align_items": null,
            "bottom": null,
            "_model_module": "@jupyter-widgets/base",
            "top": null,
            "grid_column": null,
            "overflow_y": null,
            "overflow_x": null,
            "grid_auto_flow": null,
            "grid_area": null,
            "grid_template_columns": null,
            "flex": null,
            "_model_name": "LayoutModel",
            "justify_items": null,
            "grid_row": null,
            "max_height": null,
            "align_content": null,
            "visibility": null,
            "align_self": null,
            "height": null,
            "min_height": null,
            "padding": null,
            "grid_auto_rows": null,
            "grid_gap": null,
            "max_width": null,
            "order": null,
            "_view_module_version": "1.2.0",
            "grid_template_areas": null,
            "object_position": null,
            "object_fit": null,
            "grid_auto_columns": null,
            "margin": null,
            "display": null,
            "left": null
          }
        },
        "a30e693898f044bb9f1ac5ad132068b7": {
          "model_module": "@jupyter-widgets/controls",
          "model_name": "DescriptionStyleModel",
          "state": {
            "_view_name": "StyleView",
            "_model_name": "DescriptionStyleModel",
            "description_width": "",
            "_view_module": "@jupyter-widgets/base",
            "_model_module_version": "1.5.0",
            "_view_count": null,
            "_view_module_version": "1.2.0",
            "_model_module": "@jupyter-widgets/controls"
          }
        },
        "46e64297882640bd98af1b41763a6dac": {
          "model_module": "@jupyter-widgets/base",
          "model_name": "LayoutModel",
          "state": {
            "_view_name": "LayoutView",
            "grid_template_rows": null,
            "right": null,
            "justify_content": null,
            "_view_module": "@jupyter-widgets/base",
            "overflow": null,
            "_model_module_version": "1.2.0",
            "_view_count": null,
            "flex_flow": null,
            "width": null,
            "min_width": null,
            "border": null,
            "align_items": null,
            "bottom": null,
            "_model_module": "@jupyter-widgets/base",
            "top": null,
            "grid_column": null,
            "overflow_y": null,
            "overflow_x": null,
            "grid_auto_flow": null,
            "grid_area": null,
            "grid_template_columns": null,
            "flex": null,
            "_model_name": "LayoutModel",
            "justify_items": null,
            "grid_row": null,
            "max_height": null,
            "align_content": null,
            "visibility": null,
            "align_self": null,
            "height": null,
            "min_height": null,
            "padding": null,
            "grid_auto_rows": null,
            "grid_gap": null,
            "max_width": null,
            "order": null,
            "_view_module_version": "1.2.0",
            "grid_template_areas": null,
            "object_position": null,
            "object_fit": null,
            "grid_auto_columns": null,
            "margin": null,
            "display": null,
            "left": null
          }
        },
        "d9af877b7ec943faad6285c271342a3f": {
          "model_module": "@jupyter-widgets/controls",
          "model_name": "HBoxModel",
          "state": {
            "_view_name": "HBoxView",
            "_dom_classes": [],
            "_model_name": "HBoxModel",
            "_view_module": "@jupyter-widgets/controls",
            "_model_module_version": "1.5.0",
            "_view_count": null,
            "_view_module_version": "1.5.0",
            "box_style": "",
            "layout": "IPY_MODEL_55d8b92bc39d4d1aa82a952b5707c30e",
            "_model_module": "@jupyter-widgets/controls",
            "children": [
              "IPY_MODEL_bb2d5b8a2ccf4234970237ed29920970",
              "IPY_MODEL_8d48b0570d8a41119d267ccb76e2a4dd"
            ]
          }
        },
        "55d8b92bc39d4d1aa82a952b5707c30e": {
          "model_module": "@jupyter-widgets/base",
          "model_name": "LayoutModel",
          "state": {
            "_view_name": "LayoutView",
            "grid_template_rows": null,
            "right": null,
            "justify_content": null,
            "_view_module": "@jupyter-widgets/base",
            "overflow": null,
            "_model_module_version": "1.2.0",
            "_view_count": null,
            "flex_flow": null,
            "width": null,
            "min_width": null,
            "border": null,
            "align_items": null,
            "bottom": null,
            "_model_module": "@jupyter-widgets/base",
            "top": null,
            "grid_column": null,
            "overflow_y": null,
            "overflow_x": null,
            "grid_auto_flow": null,
            "grid_area": null,
            "grid_template_columns": null,
            "flex": null,
            "_model_name": "LayoutModel",
            "justify_items": null,
            "grid_row": null,
            "max_height": null,
            "align_content": null,
            "visibility": null,
            "align_self": null,
            "height": null,
            "min_height": null,
            "padding": null,
            "grid_auto_rows": null,
            "grid_gap": null,
            "max_width": null,
            "order": null,
            "_view_module_version": "1.2.0",
            "grid_template_areas": null,
            "object_position": null,
            "object_fit": null,
            "grid_auto_columns": null,
            "margin": null,
            "display": null,
            "left": null
          }
        },
        "bb2d5b8a2ccf4234970237ed29920970": {
          "model_module": "@jupyter-widgets/controls",
          "model_name": "FloatProgressModel",
          "state": {
            "_view_name": "ProgressView",
            "style": "IPY_MODEL_4d77dc3a341347f4bc85866eed87ea0c",
            "_dom_classes": [],
            "description": "Downloading: 100%",
            "_model_name": "FloatProgressModel",
            "bar_style": "success",
            "max": 435779157,
            "_view_module": "@jupyter-widgets/controls",
            "_model_module_version": "1.5.0",
            "value": 435779157,
            "_view_count": null,
            "_view_module_version": "1.5.0",
            "orientation": "horizontal",
            "min": 0,
            "description_tooltip": null,
            "_model_module": "@jupyter-widgets/controls",
            "layout": "IPY_MODEL_f7a7fcc809b340a28879dabec562bd18"
          }
        },
        "8d48b0570d8a41119d267ccb76e2a4dd": {
          "model_module": "@jupyter-widgets/controls",
          "model_name": "HTMLModel",
          "state": {
            "_view_name": "HTMLView",
            "style": "IPY_MODEL_a7fb822e97c24c34bfca9d56c299d502",
            "_dom_classes": [],
            "description": "",
            "_model_name": "HTMLModel",
            "placeholder": "​",
            "_view_module": "@jupyter-widgets/controls",
            "_model_module_version": "1.5.0",
            "value": " 436M/436M [00:09&lt;00:00, 48.4MB/s]",
            "_view_count": null,
            "_view_module_version": "1.5.0",
            "description_tooltip": null,
            "_model_module": "@jupyter-widgets/controls",
            "layout": "IPY_MODEL_d3c2a2babfec41fcb7985b19e0b3d6bc"
          }
        },
        "4d77dc3a341347f4bc85866eed87ea0c": {
          "model_module": "@jupyter-widgets/controls",
          "model_name": "ProgressStyleModel",
          "state": {
            "_view_name": "StyleView",
            "_model_name": "ProgressStyleModel",
            "description_width": "initial",
            "_view_module": "@jupyter-widgets/base",
            "_model_module_version": "1.5.0",
            "_view_count": null,
            "_view_module_version": "1.2.0",
            "bar_color": null,
            "_model_module": "@jupyter-widgets/controls"
          }
        },
        "f7a7fcc809b340a28879dabec562bd18": {
          "model_module": "@jupyter-widgets/base",
          "model_name": "LayoutModel",
          "state": {
            "_view_name": "LayoutView",
            "grid_template_rows": null,
            "right": null,
            "justify_content": null,
            "_view_module": "@jupyter-widgets/base",
            "overflow": null,
            "_model_module_version": "1.2.0",
            "_view_count": null,
            "flex_flow": null,
            "width": null,
            "min_width": null,
            "border": null,
            "align_items": null,
            "bottom": null,
            "_model_module": "@jupyter-widgets/base",
            "top": null,
            "grid_column": null,
            "overflow_y": null,
            "overflow_x": null,
            "grid_auto_flow": null,
            "grid_area": null,
            "grid_template_columns": null,
            "flex": null,
            "_model_name": "LayoutModel",
            "justify_items": null,
            "grid_row": null,
            "max_height": null,
            "align_content": null,
            "visibility": null,
            "align_self": null,
            "height": null,
            "min_height": null,
            "padding": null,
            "grid_auto_rows": null,
            "grid_gap": null,
            "max_width": null,
            "order": null,
            "_view_module_version": "1.2.0",
            "grid_template_areas": null,
            "object_position": null,
            "object_fit": null,
            "grid_auto_columns": null,
            "margin": null,
            "display": null,
            "left": null
          }
        },
        "a7fb822e97c24c34bfca9d56c299d502": {
          "model_module": "@jupyter-widgets/controls",
          "model_name": "DescriptionStyleModel",
          "state": {
            "_view_name": "StyleView",
            "_model_name": "DescriptionStyleModel",
            "description_width": "",
            "_view_module": "@jupyter-widgets/base",
            "_model_module_version": "1.5.0",
            "_view_count": null,
            "_view_module_version": "1.2.0",
            "_model_module": "@jupyter-widgets/controls"
          }
        },
        "d3c2a2babfec41fcb7985b19e0b3d6bc": {
          "model_module": "@jupyter-widgets/base",
          "model_name": "LayoutModel",
          "state": {
            "_view_name": "LayoutView",
            "grid_template_rows": null,
            "right": null,
            "justify_content": null,
            "_view_module": "@jupyter-widgets/base",
            "overflow": null,
            "_model_module_version": "1.2.0",
            "_view_count": null,
            "flex_flow": null,
            "width": null,
            "min_width": null,
            "border": null,
            "align_items": null,
            "bottom": null,
            "_model_module": "@jupyter-widgets/base",
            "top": null,
            "grid_column": null,
            "overflow_y": null,
            "overflow_x": null,
            "grid_auto_flow": null,
            "grid_area": null,
            "grid_template_columns": null,
            "flex": null,
            "_model_name": "LayoutModel",
            "justify_items": null,
            "grid_row": null,
            "max_height": null,
            "align_content": null,
            "visibility": null,
            "align_self": null,
            "height": null,
            "min_height": null,
            "padding": null,
            "grid_auto_rows": null,
            "grid_gap": null,
            "max_width": null,
            "order": null,
            "_view_module_version": "1.2.0",
            "grid_template_areas": null,
            "object_position": null,
            "object_fit": null,
            "grid_auto_columns": null,
            "margin": null,
            "display": null,
            "left": null
          }
        }
      }
    }
  },
  "cells": [
    {
      "cell_type": "code",
      "metadata": {
        "ExecuteTime": {
          "end_time": "2021-05-25T16:42:16.492760Z",
          "start_time": "2021-05-25T16:42:14.818432Z"
        },
        "id": "hd2KnDKRC0g2"
      },
      "source": [
        "from torch.utils.data import Dataset, DataLoader\n",
        "from typing import List\n",
        "from collections import Counter\n",
        "import matplotlib.pyplot as plt\n",
        "from tqdm import tqdm\n",
        "from torch import nn\n",
        "import torch\n",
        "from transformers import BertForTokenClassification, AdamW\n",
        "from sklearn.metrics import classification_report\n",
        "\n",
        "#https://www.depends-on-the-definition.com/named-entity-recognition-with-bert/\n",
        "#https://huggingface.co/transformers/model_doc/bert.html#bertfortokenclassification\n",
        "#https://vamvas.ch/bert-for-ner\n",
        "#https://towardsdatascience.com/bert-text-classification-using-pytorch-723dfb8b6b5b"
      ],
      "execution_count": 5,
      "outputs": []
    },
    {
      "cell_type": "code",
      "metadata": {
        "ExecuteTime": {
          "end_time": "2021-05-25T16:42:29.517289Z",
          "start_time": "2021-05-25T16:42:29.236585Z"
        },
        "colab": {
          "base_uri": "https://localhost:8080/"
        },
        "id": "jOgktGSaC6gV",
        "outputId": "abc4d585-2624-44bf-de1b-594a18417d01"
      },
      "source": [
        "def read_data(file):\n",
        "  lines = open(file, \"r\").readlines()\n",
        "  data = {\"sentences\": [], \"labels_per_sent\": []}\n",
        "  sentence, labels = [], []\n",
        "  for line in tqdm(lines):\n",
        "    line = line.strip()\n",
        "    if not line:\n",
        "      if sentence and labels:\n",
        "        assert len(sentence) == len(labels)\n",
        "        data[\"sentences\"].append(sentence)\n",
        "        data[\"labels_per_sent\"].append(labels)\n",
        "        sentence, labels = [], []\n",
        "      continue\n",
        "    if line.startswith(\"-DOCSTART-\"):\n",
        "      continue\n",
        "    else:\n",
        "      values = line.split(\" \")\n",
        "      try:\n",
        "        token, _, _, label = values\n",
        "        sentence.append(token)\n",
        "        if label != 'O':\n",
        "          labels.append(label.split('-')[-1])\n",
        "        else:\n",
        "          labels.append(label)\n",
        "\n",
        "      except Exception as e:\n",
        "        print(f\"Error has occur: {e}\")\n",
        "        continue\n",
        "  return data\n",
        "\n",
        "\n",
        "train = read_data(\"/content/drive/MyDrive/Akatsuki/eng.train\")\n",
        "valid = read_data(\"/content/drive/MyDrive/Akatsuki/eng.testa\")"
      ],
      "execution_count": 8,
      "outputs": [
        {
          "output_type": "stream",
          "text": [
            "100%|██████████| 219554/219554 [00:00<00:00, 586269.03it/s]\n",
            "100%|██████████| 55045/55045 [00:00<00:00, 979107.32it/s]\n"
          ],
          "name": "stderr"
        }
      ]
    },
    {
      "cell_type": "code",
      "metadata": {
        "ExecuteTime": {
          "end_time": "2021-05-25T16:42:36.335505Z",
          "start_time": "2021-05-25T16:42:31.532926Z"
        },
        "colab": {
          "base_uri": "https://localhost:8080/",
          "height": 232,
          "referenced_widgets": [
            "4032ce0e331442008c91f34ecbdcdacc",
            "8e549973c59a44d2a558c0a2c3ce693f",
            "5425193e173b49b593e2402f956842ee",
            "566a88e28b5c449eb5acb5a683fd8550",
            "5f49f6373ba8401eb23c9770710f04a9",
            "038c151ba0374b70b713fc46a1e4581e",
            "3587cb1b700d4213a0374e07187181f7",
            "4fc01e0f291c45eb804c4695b81a1729",
            "821e47dd94ed43229b9e57ad63758aa8",
            "532026ce61904c82b64c941a84f8b976",
            "7e875266bbdb4773a80e29e4563697d0",
            "b7dedaacb9d34406953ac5af7ecf11b7",
            "8ee72e909ca8472587094bd25c37cf9b",
            "3cf31838911f4c71a4fd27238349cf24",
            "2b80fb20c1f940c6af2f49dcfe2ab056",
            "628c0730e1a846a7b64aea42e0fb7532",
            "315484bd69bf4b42893ca1b607933554",
            "c96d6934f8ce47b1a62a513a1e757f7b",
            "0b7cf0cbb6a04872838a15d5bdcbd27e",
            "8073951bf57840aa9b31862b8c7da82d",
            "2f8709edc2a04e11bc67c1692576662b",
            "33d8af09a8714577bdbd76baeea8ca0a",
            "e407f4b06e2b4311abeeac69e88e9f39",
            "8a283db156924c3f8f4e10d345c28f32",
            "25dbe3358614444688dba2bb736c7475",
            "462beadad0dd4dd9879f25bc9d4c1492",
            "cb073ccfca2942a083a8645e06b47086",
            "f026d1dec4624d239a4869eb0e08d1dd",
            "4137a9ec21ea4905ae3517ab8a824288",
            "0f11ec6fbd8e4c6ea0ee4eb97c3f92f1",
            "a30e693898f044bb9f1ac5ad132068b7",
            "46e64297882640bd98af1b41763a6dac"
          ]
        },
        "id": "AQdYGwY9C6lf",
        "outputId": "f9923fd8-0952-4f27-b658-9ce46887e76c"
      },
      "source": [
        "tokenizer = torch.hub.load('huggingface/pytorch-transformers', 'tokenizer', 'bert-base-cased', do_lower_case=False, is_split_into_words = True)"
      ],
      "execution_count": 9,
      "outputs": [
        {
          "output_type": "stream",
          "text": [
            "Downloading: \"https://github.com/huggingface/pytorch-transformers/archive/master.zip\" to /root/.cache/torch/hub/master.zip\n"
          ],
          "name": "stderr"
        },
        {
          "output_type": "display_data",
          "data": {
            "application/vnd.jupyter.widget-view+json": {
              "model_id": "4032ce0e331442008c91f34ecbdcdacc",
              "version_minor": 0,
              "version_major": 2
            },
            "text/plain": [
              "HBox(children=(FloatProgress(value=0.0, description='Downloading', max=570.0, style=ProgressStyle(description_…"
            ]
          },
          "metadata": {
            "tags": []
          }
        },
        {
          "output_type": "stream",
          "text": [
            "\n"
          ],
          "name": "stdout"
        },
        {
          "output_type": "display_data",
          "data": {
            "application/vnd.jupyter.widget-view+json": {
              "model_id": "821e47dd94ed43229b9e57ad63758aa8",
              "version_minor": 0,
              "version_major": 2
            },
            "text/plain": [
              "HBox(children=(FloatProgress(value=0.0, description='Downloading', max=213450.0, style=ProgressStyle(descripti…"
            ]
          },
          "metadata": {
            "tags": []
          }
        },
        {
          "output_type": "stream",
          "text": [
            "\n"
          ],
          "name": "stdout"
        },
        {
          "output_type": "display_data",
          "data": {
            "application/vnd.jupyter.widget-view+json": {
              "model_id": "315484bd69bf4b42893ca1b607933554",
              "version_minor": 0,
              "version_major": 2
            },
            "text/plain": [
              "HBox(children=(FloatProgress(value=0.0, description='Downloading', max=435797.0, style=ProgressStyle(descripti…"
            ]
          },
          "metadata": {
            "tags": []
          }
        },
        {
          "output_type": "stream",
          "text": [
            "\n"
          ],
          "name": "stdout"
        },
        {
          "output_type": "display_data",
          "data": {
            "application/vnd.jupyter.widget-view+json": {
              "model_id": "25dbe3358614444688dba2bb736c7475",
              "version_minor": 0,
              "version_major": 2
            },
            "text/plain": [
              "HBox(children=(FloatProgress(value=0.0, description='Downloading', max=29.0, style=ProgressStyle(description_w…"
            ]
          },
          "metadata": {
            "tags": []
          }
        },
        {
          "output_type": "stream",
          "text": [
            "\n"
          ],
          "name": "stdout"
        }
      ]
    },
    {
      "cell_type": "code",
      "metadata": {
        "ExecuteTime": {
          "end_time": "2021-05-25T16:42:41.811642Z",
          "start_time": "2021-05-25T16:42:36.418054Z"
        },
        "id": "eDK3pglgC6r1"
      },
      "source": [
        "import numpy as np\n",
        "def tokenize(features, labels):\n",
        "    input_ids = np.array([tokenizer.encode(txt, truncation = True, padding='max_length', max_length =  150,  is_split_into_words = True) for txt in features])\n",
        "\n",
        "    labels_ids = np.array([tokenizer.encode(lab, truncation = True, padding='max_length', max_length =  150,  is_split_into_words = True) for lab in labels])\n",
        "\n",
        "    input_ids = np.stack(input_ids, axis = 0)\n",
        "    \n",
        "    labels_ids = np.stack(labels_ids, axis = 0)\n",
        "    \n",
        "    attention_masks = [[float(i != 0) for i in ii] for ii in input_ids]\n",
        "    return input_ids, labels_ids, attention_masks \n",
        "    \n",
        "class NERDataset(Dataset):\n",
        "\n",
        "  def __init__(self, data):\n",
        "    self.features = data['sentences']\n",
        "    \n",
        "    self.enc_feat, self.enc_lab, self.attention_mask = tokenize(data['sentences'], data['labels_per_sent'])\n",
        "  def __getitem__(self, index):\n",
        "    feature = torch.LongTensor(self.enc_feat[index])\n",
        "    label = torch.LongTensor(self.enc_lab[index])\n",
        "    attention_mask = torch.LongTensor(self.attention_mask[index])\n",
        "    \n",
        "    return feature, label, attention_mask\n",
        "    \n",
        "  def __len__(self):\n",
        "    return len(self.features)\n",
        "\n",
        "train_dataset = NERDataset(train)\n",
        "valid_dataset = NERDataset(valid)"
      ],
      "execution_count": 10,
      "outputs": []
    },
    {
      "cell_type": "code",
      "metadata": {
        "ExecuteTime": {
          "end_time": "2021-05-25T16:42:41.895025Z",
          "start_time": "2021-05-25T16:42:41.892686Z"
        },
        "id": "N9gLnvoHD3Md"
      },
      "source": [
        "train_datloader = DataLoader(train_dataset, batch_size=4, shuffle=True)\n",
        "valid_datloader = DataLoader(valid_dataset, batch_size=4, shuffle=True)"
      ],
      "execution_count": 11,
      "outputs": []
    },
    {
      "cell_type": "code",
      "metadata": {
        "ExecuteTime": {
          "end_time": "2021-05-25T16:42:48.573851Z",
          "start_time": "2021-05-25T16:42:41.974210Z"
        },
        "colab": {
          "base_uri": "https://localhost:8080/",
          "height": 173,
          "referenced_widgets": [
            "d9af877b7ec943faad6285c271342a3f",
            "55d8b92bc39d4d1aa82a952b5707c30e",
            "bb2d5b8a2ccf4234970237ed29920970",
            "8d48b0570d8a41119d267ccb76e2a4dd",
            "4d77dc3a341347f4bc85866eed87ea0c",
            "f7a7fcc809b340a28879dabec562bd18",
            "a7fb822e97c24c34bfca9d56c299d502",
            "d3c2a2babfec41fcb7985b19e0b3d6bc"
          ]
        },
        "id": "L6Wz-sRUC6ux",
        "outputId": "b0e861dd-1cda-483b-8e0e-263944ecb8df"
      },
      "source": [
        "class NERModel(nn.Module):\n",
        "\n",
        "  def __init__(self):\n",
        "    super(NERModel, self).__init__()\n",
        "    \n",
        "    options_name = \"bert-base-cased\"\n",
        "    self.encoder = BertForTokenClassification.from_pretrained(options_name, \n",
        "    output_attentions = False,\n",
        "    num_labels=26575,\n",
        "    output_hidden_states = False)\n",
        "\n",
        "\n",
        "  def forward(self, text, mask, label):\n",
        "    output = self.encoder(text,token_type_ids=None,attention_mask = mask, labels=label)\n",
        "    loss = output['loss']\n",
        "    logits = output['logits']\n",
        "    \n",
        "    return loss, logits\n",
        "\n",
        "    \n",
        "    \n",
        "\n",
        "device = 'cuda'\n",
        "model = NERModel().to(device)\n",
        "model.to(device)\n",
        "optimizer = AdamW(\n",
        "    model.parameters(),\n",
        "    lr=3e-4,\n",
        "    eps=1e-8\n",
        ")    "
      ],
      "execution_count": 12,
      "outputs": [
        {
          "output_type": "display_data",
          "data": {
            "application/vnd.jupyter.widget-view+json": {
              "model_id": "d9af877b7ec943faad6285c271342a3f",
              "version_minor": 0,
              "version_major": 2
            },
            "text/plain": [
              "HBox(children=(FloatProgress(value=0.0, description='Downloading', max=435779157.0, style=ProgressStyle(descri…"
            ]
          },
          "metadata": {
            "tags": []
          }
        },
        {
          "output_type": "stream",
          "text": [
            "\n"
          ],
          "name": "stdout"
        },
        {
          "output_type": "stream",
          "text": [
            "Some weights of the model checkpoint at bert-base-cased were not used when initializing BertForTokenClassification: ['cls.predictions.decoder.weight', 'cls.seq_relationship.bias', 'cls.predictions.transform.dense.weight', 'cls.seq_relationship.weight', 'cls.predictions.transform.LayerNorm.bias', 'cls.predictions.transform.LayerNorm.weight', 'cls.predictions.transform.dense.bias', 'cls.predictions.bias']\n",
            "- This IS expected if you are initializing BertForTokenClassification from the checkpoint of a model trained on another task or with another architecture (e.g. initializing a BertForSequenceClassification model from a BertForPreTraining model).\n",
            "- This IS NOT expected if you are initializing BertForTokenClassification from the checkpoint of a model that you expect to be exactly identical (initializing a BertForSequenceClassification model from a BertForSequenceClassification model).\n",
            "Some weights of BertForTokenClassification were not initialized from the model checkpoint at bert-base-cased and are newly initialized: ['classifier.weight', 'classifier.bias']\n",
            "You should probably TRAIN this model on a down-stream task to be able to use it for predictions and inference.\n"
          ],
          "name": "stderr"
        }
      ]
    },
    {
      "cell_type": "code",
      "metadata": {
        "ExecuteTime": {
          "end_time": "2021-05-25T16:42:48.676056Z",
          "start_time": "2021-05-25T16:42:48.670356Z"
        },
        "id": "dt6uLVb6Yl6B"
      },
      "source": [
        "def transform_logits(predictions: List[torch.tensor]):\n",
        "  predicted = torch.max(predictions, 2).values\n",
        "\n",
        "  ls_predicted = []\n",
        "  for i in predicted:\n",
        "  \n",
        "    ls_predicted.append(tokenizer.decode(i.int()))\n",
        "  return ls_predicted\n",
        "\n",
        "def transform_target(target_labels: List[torch.tensor]):\n",
        "  list_gt = []\n",
        "  for i in target_labels:\n",
        "    list_gt.append(tokenizer.decode(i))\n",
        "  return list_gt  \n",
        "\n",
        "\n",
        "def count_metrics(gold_labels_per_sentence: List[List[str]], predict_labels_per_sentence: List[List[str]]):\n",
        "  gold_labels = [l for l_per_sent in gold_labels_per_sentence for l in l_per_sent]\n",
        "  predict_labels = [l for l_per_sent in predict_labels_per_sentence for l in l_per_sent]\n",
        "  print(classification_report(gold_labels, predict_labels))  "
      ],
      "execution_count": 13,
      "outputs": []
    },
    {
      "cell_type": "code",
      "metadata": {
        "ExecuteTime": {
          "end_time": "2021-05-25T16:44:05.838846Z",
          "start_time": "2021-05-25T16:42:53.556957Z"
        },
        "colab": {
          "base_uri": "https://localhost:8080/"
        },
        "id": "OWMcqTrbC6x1",
        "outputId": "adfe2ff6-fe02-44c0-93a8-c1f9211e4165"
      },
      "source": [
        "from tqdm import tqdm\n",
        "losses = {\"train_losses\": [], \"valid_losses\": []}\n",
        "\n",
        "epochs = 3\n",
        "device = 'cuda'\n",
        "for epoch in range(epochs):\n",
        "\n",
        "  print(f\"Start eposh #{epoch}\")\n",
        "  cnt = 0\n",
        "  model.train()\n",
        "  for text, label, mask in train_datloader:\n",
        "\n",
        "    text = text.to(device)\n",
        "    label = label.to(device)\n",
        "    mask = mask.to(device)\n",
        "    optimizer.zero_grad()\n",
        "    \n",
        "    loss, logits = model.forward(text, mask, label)\n",
        "   \n",
        "    \n",
        "    losses[\"train_losses\"].append(loss)\n",
        "    cnt += 1\n",
        "    if cnt % 500 == 0:\n",
        "      print(f'idx: {cnt} and loss is\" {loss}')\n",
        "    loss.backward()\n",
        "    \n",
        "    optimizer.step()\n",
        "    \n",
        "    predict_labels, gold_labels = [], []\n",
        "    \n",
        "  model.eval()\n",
        "  print('Evaluate.....')\n",
        "  predictions, true_labels = [], []\n",
        "  for text, label, mask in valid_datloader:\n",
        "    text = text.to(device)\n",
        "    label = label.to(device)\n",
        "    mask = mask.to(device)\n",
        "\n",
        "    with torch.no_grad():\n",
        "      loss, logits = model.forward(text, mask, label)\n",
        "    losses[\"valid_losses\"].append(loss)\n",
        "    \n",
        "    gold_labels.append(transform_target(label))\n",
        "    predict_labels.append(transform_logits(logits))\n",
        "   \n",
        "\n",
        "  #count_metrics(gold_labels, predict_labels)\n",
        "  \n",
        "  print(f\"End eposh #{epoch}\")\n",
        "  print('-------------------------------')\n",
        "\n"
      ],
      "execution_count": 14,
      "outputs": [
        {
          "output_type": "stream",
          "text": [
            "Start eposh #0\n",
            "idx: 500 and loss is\" 2.274463176727295\n",
            "idx: 1000 and loss is\" 1.7463831901550293\n",
            "idx: 1500 and loss is\" 1.8485385179519653\n",
            "idx: 2000 and loss is\" 2.5487654209136963\n",
            "idx: 2500 and loss is\" 1.780705451965332\n",
            "idx: 3000 and loss is\" 1.4717597961425781\n",
            "idx: 3500 and loss is\" 1.707107424736023\n",
            "Evaluate.....\n",
            "End eposh #0\n",
            "-------------------------------\n",
            "Start eposh #1\n",
            "idx: 500 and loss is\" 1.881819486618042\n",
            "idx: 1000 and loss is\" 1.552380919456482\n",
            "idx: 1500 and loss is\" 1.8568886518478394\n",
            "idx: 2000 and loss is\" 1.7593249082565308\n",
            "idx: 2500 and loss is\" 2.2507927417755127\n",
            "idx: 3000 and loss is\" 1.178533673286438\n",
            "idx: 3500 and loss is\" 1.3588533401489258\n",
            "Evaluate.....\n",
            "End eposh #1\n",
            "-------------------------------\n",
            "Start eposh #2\n",
            "idx: 500 and loss is\" 1.4642711877822876\n",
            "idx: 1000 and loss is\" 1.6729559898376465\n",
            "idx: 1500 and loss is\" 1.4839366674423218\n",
            "idx: 2000 and loss is\" 1.7282438278198242\n",
            "idx: 2500 and loss is\" 1.362998604774475\n",
            "idx: 3000 and loss is\" 1.3039371967315674\n",
            "idx: 3500 and loss is\" 1.461954951286316\n",
            "Evaluate.....\n",
            "End eposh #2\n",
            "-------------------------------\n"
          ],
          "name": "stdout"
        }
      ]
    },
    {
      "cell_type": "code",
      "metadata": {
        "id": "DsRJoeC-i5OS"
      },
      "source": [
        "def Average(lst):\n",
        "    return sum(lst) / len(lst)\n",
        "\n",
        "def loss_by_epoch(loss, step):\n",
        "  epoch_loss = []\n",
        "  start = 0\n",
        "  for i in range(0, 3):\n",
        "    epoch_loss.append(Average(loss[start:start + step]))\n",
        "    start += step\n",
        "  return epoch_loss  \n",
        "\n",
        "valid_epoch = loss_by_epoch(losses['valid_losses'],int(len(losses['valid_losses']) / epochs) )\n",
        "\n",
        "train_epoch = loss_by_epoch(losses['train_losses'],int(len(losses['train_losses']) / epochs) )\n"
      ],
      "execution_count": 34,
      "outputs": []
    },
    {
      "cell_type": "code",
      "metadata": {
        "colab": {
          "base_uri": "https://localhost:8080/",
          "height": 584
        },
        "id": "mXP1OjWokv63",
        "outputId": "bbd411ca-ca22-492f-f2fd-1c26803bcc01"
      },
      "source": [
        "epoch = [i for i in range(0, epochs)]\n",
        "\n",
        "fig, ax = plt.subplots(figsize = (16, 9))\n",
        "ax.plot(epoch, valid_epoch, label = 'validation loss')\n",
        "ax.plot(epoch, train_epoch, label = 'train loss')\n",
        "ax.set_xlabel('epochs')\n",
        "ax.set_ylabel('loss')\n",
        "ax.set_title('Train and validation loss')\n",
        "ax.legend()"
      ],
      "execution_count": 44,
      "outputs": [
        {
          "output_type": "execute_result",
          "data": {
            "text/plain": [
              "<matplotlib.legend.Legend at 0x7f670a07ec50>"
            ]
          },
          "metadata": {
            "tags": []
          },
          "execution_count": 44
        },
        {
          "output_type": "display_data",
          "data": {
            "image/png": "[encoded data removed]",
            "text/plain": [
              "<Figure size 1152x648 with 1 Axes>"
            ]
          },
          "metadata": {
            "tags": [],
            "needs_background": "light"
          }
        }
      ]
    }
  ]
}